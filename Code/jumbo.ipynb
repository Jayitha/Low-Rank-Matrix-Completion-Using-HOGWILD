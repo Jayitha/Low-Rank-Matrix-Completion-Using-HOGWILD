{
 "cells": [
  {
   "cell_type": "code",
   "execution_count": 3,
   "metadata": {},
   "outputs": [],
   "source": [
    "import numpy as np\n",
    "import random"
   ]
  },
  {
   "cell_type": "code",
   "execution_count": 4,
   "metadata": {},
   "outputs": [],
   "source": [
    "nc = 5000\n",
    "nr = 5000\n",
    "r = 5\n",
    "omega = r*(nc + nr - r)"
   ]
  },
  {
   "cell_type": "code",
   "execution_count": 5,
   "metadata": {},
   "outputs": [],
   "source": [
    "L = np.random.rand(nr,r)\n",
    "while(not(np.linalg.matrix_rank(L)==r)):\n",
    "    L = np.random.rand(nr,r)\n",
    "R = np.random.rand(nc,r)\n",
    "while(not(np.linalg.matrix_rank(R)==r)):\n",
    "    R = np.random.rand(nc,r)"
   ]
  },
  {
   "cell_type": "code",
   "execution_count": 6,
   "metadata": {},
   "outputs": [
    {
     "data": {
      "text/plain": [
       "5"
      ]
     },
     "execution_count": 6,
     "metadata": {},
     "output_type": "execute_result"
    }
   ],
   "source": [
    "np.linalg.matrix_rank(L)"
   ]
  },
  {
   "cell_type": "code",
   "execution_count": 7,
   "metadata": {},
   "outputs": [],
   "source": [
    "Z = np.dot(L, np.transpose(R))"
   ]
  },
  {
   "cell_type": "code",
   "execution_count": 8,
   "metadata": {},
   "outputs": [],
   "source": [
    "with open(\"test_\"+str(nr)+\"_\"+str(nc)+\"_\"+str(r)+\".txt\", \"w\") as f:\n",
    "    for i in range(nr-1):\n",
    "        f.write(str(i)+\" \"+str(i+1)+\" \"+str(Z[i][i+1])+\"\\n\")\n",
    "    f.write(str(nr-1)+\" \"+str(0)+\" \"+str(Z[i][i+1])+\"\\n\")\n",
    "    for i in range(omega - nr):\n",
    "        index1 = random.randint(0, nr-1)\n",
    "        index2 = random.randint(0, nc-1)\n",
    "        f.write(str(index1)+\" \"+str(index2)+\" \"+str(Z[index1][index2])+\"\\n\")"
   ]
  },
  {
   "cell_type": "code",
   "execution_count": null,
   "metadata": {},
   "outputs": [],
   "source": []
  }
 ],
 "metadata": {
  "kernelspec": {
   "display_name": "Python 3",
   "language": "python",
   "name": "python3"
  },
  "language_info": {
   "codemirror_mode": {
    "name": "ipython",
    "version": 3
   },
   "file_extension": ".py",
   "mimetype": "text/x-python",
   "name": "python",
   "nbconvert_exporter": "python",
   "pygments_lexer": "ipython3",
   "version": "3.7.3"
  }
 },
 "nbformat": 4,
 "nbformat_minor": 2
}
